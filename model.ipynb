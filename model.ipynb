{
 "cells": [
  {
   "cell_type": "code",
   "execution_count": 1,
   "metadata": {},
   "outputs": [],
   "source": [
    "import cv2\n",
    "import glob\n",
    "import time\n",
    "import locale\n",
    "import numpy as np \n",
    "import pandas as pd \n",
    "import tensorflow as tf\n",
    "import matplotlib.pyplot as plt \n",
    "\n",
    "from sklearn.metrics import r2_score\n",
    "from sklearn.preprocessing import MinMaxScaler\n",
    "from sklearn.model_selection import train_test_split\n",
    "\n",
    "from tensorflow.python import keras\n",
    "from keras.models import Model\n",
    "from keras.layers import Flatten\n",
    "from keras.models import Sequential\n",
    "from keras.layers.core import Dense\n",
    "from keras.layers import concatenate\n",
    "from keras.layers.core import Dropout\n",
    "from keras.callbacks import TensorBoard\n",
    "from keras.models import model_from_yaml\n",
    "from keras.layers.convolutional import Conv2D\n",
    "from keras.layers.convolutional import MaxPooling2D\n",
    "from tensorflow.keras.callbacks import EarlyStopping\n",
    "#from keras.layers.normalization import BatchNormalization"
   ]
  },
  {
   "cell_type": "code",
   "execution_count": 2,
   "metadata": {},
   "outputs": [
    {
     "data": {
      "text/html": [
       "<div>\n",
       "<style scoped>\n",
       "    .dataframe tbody tr th:only-of-type {\n",
       "        vertical-align: middle;\n",
       "    }\n",
       "\n",
       "    .dataframe tbody tr th {\n",
       "        vertical-align: top;\n",
       "    }\n",
       "\n",
       "    .dataframe thead th {\n",
       "        text-align: right;\n",
       "    }\n",
       "</style>\n",
       "<table border=\"1\" class=\"dataframe\">\n",
       "  <thead>\n",
       "    <tr style=\"text-align: right;\">\n",
       "      <th></th>\n",
       "      <th>bedrooms</th>\n",
       "      <th>bathrooms</th>\n",
       "      <th>area</th>\n",
       "      <th>zipcode</th>\n",
       "      <th>price</th>\n",
       "    </tr>\n",
       "  </thead>\n",
       "  <tbody>\n",
       "    <tr>\n",
       "      <th>0</th>\n",
       "      <td>4</td>\n",
       "      <td>4.0</td>\n",
       "      <td>4053</td>\n",
       "      <td>85255</td>\n",
       "      <td>869500</td>\n",
       "    </tr>\n",
       "    <tr>\n",
       "      <th>1</th>\n",
       "      <td>4</td>\n",
       "      <td>3.0</td>\n",
       "      <td>3343</td>\n",
       "      <td>36372</td>\n",
       "      <td>865200</td>\n",
       "    </tr>\n",
       "    <tr>\n",
       "      <th>2</th>\n",
       "      <td>3</td>\n",
       "      <td>4.0</td>\n",
       "      <td>3923</td>\n",
       "      <td>85266</td>\n",
       "      <td>889000</td>\n",
       "    </tr>\n",
       "    <tr>\n",
       "      <th>3</th>\n",
       "      <td>5</td>\n",
       "      <td>5.0</td>\n",
       "      <td>4022</td>\n",
       "      <td>85262</td>\n",
       "      <td>910000</td>\n",
       "    </tr>\n",
       "    <tr>\n",
       "      <th>4</th>\n",
       "      <td>3</td>\n",
       "      <td>4.0</td>\n",
       "      <td>4116</td>\n",
       "      <td>85266</td>\n",
       "      <td>971226</td>\n",
       "    </tr>\n",
       "    <tr>\n",
       "      <th>5</th>\n",
       "      <td>4</td>\n",
       "      <td>5.0</td>\n",
       "      <td>4581</td>\n",
       "      <td>85266</td>\n",
       "      <td>1249000</td>\n",
       "    </tr>\n",
       "    <tr>\n",
       "      <th>6</th>\n",
       "      <td>3</td>\n",
       "      <td>4.0</td>\n",
       "      <td>2544</td>\n",
       "      <td>85262</td>\n",
       "      <td>799000</td>\n",
       "    </tr>\n",
       "    <tr>\n",
       "      <th>7</th>\n",
       "      <td>4</td>\n",
       "      <td>5.0</td>\n",
       "      <td>5524</td>\n",
       "      <td>85266</td>\n",
       "      <td>1698000</td>\n",
       "    </tr>\n",
       "    <tr>\n",
       "      <th>8</th>\n",
       "      <td>3</td>\n",
       "      <td>4.0</td>\n",
       "      <td>4229</td>\n",
       "      <td>85255</td>\n",
       "      <td>1749000</td>\n",
       "    </tr>\n",
       "    <tr>\n",
       "      <th>9</th>\n",
       "      <td>4</td>\n",
       "      <td>5.0</td>\n",
       "      <td>3550</td>\n",
       "      <td>85262</td>\n",
       "      <td>1500000</td>\n",
       "    </tr>\n",
       "  </tbody>\n",
       "</table>\n",
       "</div>"
      ],
      "text/plain": [
       "   bedrooms  bathrooms  area  zipcode    price\n",
       "0         4        4.0  4053    85255   869500\n",
       "1         4        3.0  3343    36372   865200\n",
       "2         3        4.0  3923    85266   889000\n",
       "3         5        5.0  4022    85262   910000\n",
       "4         3        4.0  4116    85266   971226\n",
       "5         4        5.0  4581    85266  1249000\n",
       "6         3        4.0  2544    85262   799000\n",
       "7         4        5.0  5524    85266  1698000\n",
       "8         3        4.0  4229    85255  1749000\n",
       "9         4        5.0  3550    85262  1500000"
      ]
     },
     "execution_count": 2,
     "metadata": {},
     "output_type": "execute_result"
    }
   ],
   "source": [
    "textfile_path = \"C:\\\\Users\\\\HP\\\\Desktop\\\\Barcelona\\\\Term3\\\\DeepLearningApplication\\\\term_paper\\\\Houses Dataset\\\\HousesInfo.txt\"\n",
    "\n",
    "col = [\"bedrooms\", \"bathrooms\", \"area\", \"zipcode\", \"price\"]\n",
    "\n",
    "text_data = pd.read_csv(textfile_path, sep = ' ', names = col)\n",
    "\n",
    "text_data.head(10)"
   ]
  },
  {
   "cell_type": "code",
   "execution_count": 3,
   "metadata": {},
   "outputs": [],
   "source": [
    "# we reduce the number of images to speed up the training\n",
    "\n",
    "# n = 200\n",
    "\n",
    "# text_data = text_data[:n]\n",
    "\n",
    "p_max = text_data['price'].max()"
   ]
  },
  {
   "cell_type": "code",
   "execution_count": 4,
   "metadata": {},
   "outputs": [],
   "source": [
    "y = text_data['price']\n",
    "text_data.drop(columns='price', axis=1)\n",
    "\n",
    "X = text_data\n",
    "\n",
    "X_train, X_test, y_train, y_test = train_test_split(X, y, train_size=0.9, random_state=420)"
   ]
  },
  {
   "cell_type": "code",
   "execution_count": 5,
   "metadata": {},
   "outputs": [],
   "source": [
    "def image_split(df):\n",
    "    images = []\n",
    "\n",
    "    for i in df.index.values:\n",
    "        housePaths = sorted(list(glob.glob(\"Houses Dataset/{}_*\".format(i+1))))\n",
    "\n",
    "        inputImages = []\n",
    "        outputImage = np.zeros((64,64,3), dtype = \"uint8\")\n",
    "                \n",
    "        for housePath in housePaths : \n",
    "            image = cv2.imread(housePath)\n",
    "            image = cv2.resize(image,(32,32))\n",
    "            inputImages.append(image)\n",
    "\n",
    "            if len(inputImages) >= 4: \n",
    "                outputImage[0:32, 0:32] = inputImages[0]\n",
    "                outputImage[0:32, 32:64] = inputImages[1]\n",
    "                outputImage[32:64, 32:64] = inputImages[2]\n",
    "                outputImage[32:64, 0:32] = inputImages[3]\n",
    "            \n",
    "                images.append(outputImage)\n",
    "\n",
    "    return images\n",
    "        "
   ]
  },
  {
   "cell_type": "code",
   "execution_count": 6,
   "metadata": {},
   "outputs": [],
   "source": [
    "X_train_img = image_split(y_train)\n",
    "X_test_img = image_split(y_test)"
   ]
  },
  {
   "cell_type": "code",
   "execution_count": 7,
   "metadata": {},
   "outputs": [
    {
     "data": {
      "image/png": "[encoded data removed]",
      "text/plain": [
       "<Figure size 640x480 with 1 Axes>"
      ]
     },
     "metadata": {},
     "output_type": "display_data"
    }
   ],
   "source": [
    "# visualise the data\n",
    "plt.imshow(X_train_img[1])\n",
    "plt.show()"
   ]
  },
  {
   "cell_type": "code",
   "execution_count": 8,
   "metadata": {},
   "outputs": [],
   "source": [
    "# standarise images\n",
    "X_train_img = np.multiply(X_train_img, (1/255))\n",
    "X_test_img = np.multiply(X_test_img, (1/255))\n",
    "\n",
    "# y is the price of the house corresponding to house i\n",
    "y_train = np.stack(y_train)\n",
    "y_train = y_train / p_max\n",
    "y_test = np.stack(y_test)\n",
    "y_test = y_test / p_max"
   ]
  },
  {
   "cell_type": "code",
   "execution_count": 9,
   "metadata": {},
   "outputs": [
    {
     "data": {
      "image/png": "[encoded data removed]",
      "text/plain": [
       "<Figure size 640x480 with 1 Axes>"
      ]
     },
     "metadata": {},
     "output_type": "display_data"
    }
   ],
   "source": [
    "# visualisation pt. II\n",
    "plt.imshow(X_test_img[3])\n",
    "plt.show()"
   ]
  },
  {
   "cell_type": "code",
   "execution_count": 10,
   "metadata": {},
   "outputs": [
    {
     "name": "stdout",
     "output_type": "stream",
     "text": [
      "[[[0.97647059 0.97647059 0.97647059]\n",
      "  [0.97254902 0.97254902 0.97254902]\n",
      "  [0.98039216 0.98039216 0.98039216]\n",
      "  ...\n",
      "  [0.17647059 0.2627451  0.50588235]\n",
      "  [0.20784314 0.28235294 0.50588235]\n",
      "  [0.25098039 0.38431373 0.64313725]]\n",
      "\n",
      " [[0.98823529 0.98823529 0.98823529]\n",
      "  [0.99215686 0.98431373 0.98431373]\n",
      "  [0.98431373 0.98431373 0.98431373]\n",
      "  ...\n",
      "  [0.18431373 0.2627451  0.48627451]\n",
      "  [0.19215686 0.26666667 0.48235294]\n",
      "  [0.25098039 0.37647059 0.63529412]]\n",
      "\n",
      " [[0.62352941 0.76470588 0.85098039]\n",
      "  [0.80392157 0.85882353 0.8745098 ]\n",
      "  [0.95686275 0.96078431 0.95294118]\n",
      "  ...\n",
      "  [0.18823529 0.27058824 0.50588235]\n",
      "  [0.18823529 0.26666667 0.45098039]\n",
      "  [0.16862745 0.25882353 0.44313725]]\n",
      "\n",
      " ...\n",
      "\n",
      " [[0.61176471 0.72156863 0.83529412]\n",
      "  [0.61176471 0.7254902  0.83137255]\n",
      "  [0.59215686 0.71372549 0.83529412]\n",
      "  ...\n",
      "  [0.60784314 0.75686275 0.91764706]\n",
      "  [0.54901961 0.69803922 0.89019608]\n",
      "  [0.19215686 0.38431373 0.57647059]]\n",
      "\n",
      " [[0.61568627 0.72941176 0.83529412]\n",
      "  [0.60784314 0.72156863 0.82745098]\n",
      "  [0.58431373 0.70588235 0.83529412]\n",
      "  ...\n",
      "  [0.60784314 0.72941176 0.85098039]\n",
      "  [0.64705882 0.76078431 0.88235294]\n",
      "  [0.61960784 0.74901961 0.87843137]]\n",
      "\n",
      " [[0.60392157 0.71764706 0.82745098]\n",
      "  [0.61176471 0.72941176 0.84313725]\n",
      "  [0.60392157 0.73333333 0.83921569]\n",
      "  ...\n",
      "  [0.51764706 0.61176471 0.72156863]\n",
      "  [0.6        0.69019608 0.8       ]\n",
      "  [0.68627451 0.79607843 0.91764706]]]\n"
     ]
    }
   ],
   "source": [
    "print(X_test_img[0])"
   ]
  },
  {
   "cell_type": "code",
   "execution_count": 11,
   "metadata": {},
   "outputs": [
    {
     "name": "stdout",
     "output_type": "stream",
     "text": [
      "(481, 64, 64, 3) is the dimension of the training images\n",
      "(481, 5) is the dimension of the training data\n",
      "(481,) is the dimension of y train\n",
      "(54, 64, 64, 3) is the dimension of the testing images\n",
      "(54, 5) is the dimension of the testing data\n",
      "(54,) is the dimension of y test\n"
     ]
    }
   ],
   "source": [
    "# check dimensions:\n",
    "print(f'{X_train_img.shape} is the dimension of the training images')\n",
    "print(f'{X_train.shape} is the dimension of the training data')\n",
    "print(f'{y_train.shape} is the dimension of y train')\n",
    "\n",
    "print(f'{X_test_img.shape} is the dimension of the testing images')\n",
    "print(f'{X_test.shape} is the dimension of the testing data')\n",
    "print(f'{y_test.shape} is the dimension of y test')"
   ]
  },
  {
   "cell_type": "code",
   "execution_count": 12,
   "metadata": {},
   "outputs": [],
   "source": [
    "X_train = X_train.drop(columns=['price'], axis=1)\n",
    "X_test = X_test.drop(columns=['price'], axis=1)"
   ]
  },
  {
   "cell_type": "code",
   "execution_count": 13,
   "metadata": {},
   "outputs": [
    {
     "name": "stdout",
     "output_type": "stream",
     "text": [
      "bedrooms     0\n",
      "bathrooms    0\n",
      "area         0\n",
      "zipcode      0\n",
      "dtype: int64\n",
      "bedrooms     0\n",
      "bathrooms    0\n",
      "area         0\n",
      "zipcode      0\n",
      "dtype: int64\n"
     ]
    }
   ],
   "source": [
    "print(X_train.isna().sum())\n",
    "print(X_test.isna().sum())"
   ]
  },
  {
   "cell_type": "code",
   "execution_count": 14,
   "metadata": {},
   "outputs": [],
   "source": [
    "def standardise_df(df):\n",
    "\n",
    "    scaler = MinMaxScaler()\n",
    "\n",
    "    df_standardized = scaler.fit_transform(X_train)\n",
    "\n",
    "    return df_standardized"
   ]
  },
  {
   "cell_type": "code",
   "execution_count": 15,
   "metadata": {},
   "outputs": [],
   "source": [
    "X_train = standardise_df(X_train.values)\n",
    "X_test = standardise_df(X_test.values)"
   ]
  },
  {
   "cell_type": "code",
   "execution_count": 16,
   "metadata": {},
   "outputs": [],
   "source": [
    "# neural network for tabular data\n",
    "\n",
    "def tabular_nn():\n",
    "    nn = Sequential()\n",
    "    nn.add(Dropout(0.2, input_shape=(4,)))\n",
    "    nn.add(Dense(16, activation='relu'))\n",
    "    nn.add(Dense(4, activation='relu'))\n",
    "    return nn"
   ]
  },
  {
   "cell_type": "code",
   "execution_count": 17,
   "metadata": {},
   "outputs": [],
   "source": [
    "# convolutional neural network for images\n",
    "def cnn():\n",
    "\n",
    "    model = Sequential()\n",
    "\n",
    "    model.add(Conv2D(16, kernel_size=(3, 3), activation='relu', input_shape=(64,64,3)))\n",
    "    model.add(MaxPooling2D(pool_size=(2, 2)))\n",
    "    model.add(Conv2D(32, kernel_size=(3, 3), activation='relu'))\n",
    "    model.add(MaxPooling2D(pool_size=(2, 2)))\n",
    "\n",
    "    model.add(Flatten())\n",
    "\n",
    "    model.add(Dense(16, activation='relu'))\n",
    "    model.add(Dense(4, activation='relu'))\n",
    "\n",
    "    return model"
   ]
  },
  {
   "cell_type": "code",
   "execution_count": 18,
   "metadata": {},
   "outputs": [],
   "source": [
    "tabular_model = tabular_nn()\n",
    "cnn_model = cnn()\n",
    "\n",
    "merged = concatenate([tabular_model.output, cnn_model.output])\n",
    "\n",
    "final_dense = Dense(4, activation='relu')(merged)\n",
    "output = Dense(1)(final_dense)\n",
    "\n",
    "model = Model(inputs=[tabular_model.input, cnn_model.input], outputs=output)\n",
    "model.compile(optimizer='adam', loss='mse')"
   ]
  },
  {
   "cell_type": "code",
   "execution_count": 19,
   "metadata": {},
   "outputs": [
    {
     "name": "stdout",
     "output_type": "stream",
     "text": [
      "Epoch 1/50\n",
      "54/54 [==============================] - 4s 33ms/step - loss: 0.0102 - val_loss: 0.0047\n",
      "Epoch 2/50\n",
      "54/54 [==============================] - 1s 25ms/step - loss: 0.0079 - val_loss: 0.0044\n",
      "Epoch 3/50\n",
      "54/54 [==============================] - 1s 23ms/step - loss: 0.0078 - val_loss: 0.0039\n",
      "Epoch 4/50\n",
      "54/54 [==============================] - 1s 24ms/step - loss: 0.0069 - val_loss: 0.0040\n",
      "Epoch 5/50\n",
      "54/54 [==============================] - 1s 24ms/step - loss: 0.0072 - val_loss: 0.0041\n",
      "Epoch 6/50\n",
      "54/54 [==============================] - 1s 22ms/step - loss: 0.0066 - val_loss: 0.0037\n",
      "Epoch 7/50\n",
      "54/54 [==============================] - 1s 21ms/step - loss: 0.0067 - val_loss: 0.0037\n",
      "Epoch 8/50\n",
      "54/54 [==============================] - 1s 21ms/step - loss: 0.0066 - val_loss: 0.0035\n",
      "Epoch 9/50\n",
      "54/54 [==============================] - 1s 23ms/step - loss: 0.0067 - val_loss: 0.0036\n",
      "Epoch 10/50\n",
      "54/54 [==============================] - 1s 26ms/step - loss: 0.0068 - val_loss: 0.0034\n",
      "Epoch 11/50\n",
      "54/54 [==============================] - 1s 27ms/step - loss: 0.0063 - val_loss: 0.0037\n",
      "Epoch 12/50\n",
      "54/54 [==============================] - 1s 26ms/step - loss: 0.0063 - val_loss: 0.0034\n",
      "Epoch 13/50\n",
      "54/54 [==============================] - 1s 27ms/step - loss: 0.0063 - val_loss: 0.0034\n",
      "Epoch 14/50\n",
      "54/54 [==============================] - 1s 22ms/step - loss: 0.0064 - val_loss: 0.0040\n",
      "Epoch 15/50\n",
      "54/54 [==============================] - 1s 21ms/step - loss: 0.0065 - val_loss: 0.0037\n",
      "Epoch 16/50\n",
      "54/54 [==============================] - 1s 25ms/step - loss: 0.0063 - val_loss: 0.0033\n",
      "Epoch 17/50\n",
      "54/54 [==============================] - 1s 24ms/step - loss: 0.0071 - val_loss: 0.0034\n",
      "Epoch 18/50\n",
      "54/54 [==============================] - 1s 24ms/step - loss: 0.0067 - val_loss: 0.0034\n",
      "Epoch 19/50\n",
      "54/54 [==============================] - 1s 22ms/step - loss: 0.0066 - val_loss: 0.0033\n",
      "Epoch 20/50\n",
      "54/54 [==============================] - 1s 21ms/step - loss: 0.0064 - val_loss: 0.0035\n",
      "Epoch 20: early stopping\n"
     ]
    }
   ],
   "source": [
    "early_stopping = EarlyStopping(monitor='val_loss', patience=4, verbose=1)\n",
    "history = model.fit([X_train, X_train_img], y_train, epochs = 50, batch_size = 8, \n",
    "                    #validation_data=([X_val, X_val_img], y_val), \n",
    "                    callbacks=[early_stopping], validation_split = (1/9))"
   ]
  },
  {
   "cell_type": "code",
   "execution_count": 20,
   "metadata": {},
   "outputs": [
    {
     "data": {
      "image/png": "[encoded data removed]",
      "text/plain": [
       "<Figure size 640x480 with 1 Axes>"
      ]
     },
     "metadata": {},
     "output_type": "display_data"
    }
   ],
   "source": [
    "plt.plot(history.history['loss'], color='b')\n",
    "plt.plot(history.history['val_loss'], color='g')\n",
    "\n",
    "plt.title('Model MSE')\n",
    "plt.ylabel('MSE')\n",
    "plt.xlabel('Epochs')\n",
    "\n",
    "plt.legend(['Training', 'Validation'], loc='upper left')\n",
    "\n",
    "plt.show()"
   ]
  },
  {
   "cell_type": "code",
   "execution_count": 21,
   "metadata": {},
   "outputs": [
    {
     "ename": "ValueError",
     "evalue": "Data cardinality is ambiguous:\n  x sizes: 481, 54\nMake sure all arrays contain the same number of samples.",
     "output_type": "error",
     "traceback": [
      "\u001b[1;31m---------------------------------------------------------------------------\u001b[0m",
      "\u001b[1;31mValueError\u001b[0m                                Traceback (most recent call last)",
      "Cell \u001b[1;32mIn[21], line 1\u001b[0m\n\u001b[1;32m----> 1\u001b[0m predictions \u001b[39m=\u001b[39m model\u001b[39m.\u001b[39;49mpredict([X_test, X_test_img])\n",
      "File \u001b[1;32m~\\AppData\\Local\\Packages\\PythonSoftwareFoundation.Python.3.10_qbz5n2kfra8p0\\LocalCache\\local-packages\\Python310\\site-packages\\keras\\utils\\traceback_utils.py:70\u001b[0m, in \u001b[0;36mfilter_traceback.<locals>.error_handler\u001b[1;34m(*args, **kwargs)\u001b[0m\n\u001b[0;32m     67\u001b[0m     filtered_tb \u001b[39m=\u001b[39m _process_traceback_frames(e\u001b[39m.\u001b[39m__traceback__)\n\u001b[0;32m     68\u001b[0m     \u001b[39m# To get the full stack trace, call:\u001b[39;00m\n\u001b[0;32m     69\u001b[0m     \u001b[39m# `tf.debugging.disable_traceback_filtering()`\u001b[39;00m\n\u001b[1;32m---> 70\u001b[0m     \u001b[39mraise\u001b[39;00m e\u001b[39m.\u001b[39mwith_traceback(filtered_tb) \u001b[39mfrom\u001b[39;00m \u001b[39mNone\u001b[39m\n\u001b[0;32m     71\u001b[0m \u001b[39mfinally\u001b[39;00m:\n\u001b[0;32m     72\u001b[0m     \u001b[39mdel\u001b[39;00m filtered_tb\n",
      "File \u001b[1;32m~\\AppData\\Local\\Packages\\PythonSoftwareFoundation.Python.3.10_qbz5n2kfra8p0\\LocalCache\\local-packages\\Python310\\site-packages\\keras\\engine\\data_adapter.py:1852\u001b[0m, in \u001b[0;36m_check_data_cardinality\u001b[1;34m(data)\u001b[0m\n\u001b[0;32m   1845\u001b[0m     msg \u001b[39m+\u001b[39m\u001b[39m=\u001b[39m \u001b[39m\"\u001b[39m\u001b[39m  \u001b[39m\u001b[39m{}\u001b[39;00m\u001b[39m sizes: \u001b[39m\u001b[39m{}\u001b[39;00m\u001b[39m\\n\u001b[39;00m\u001b[39m\"\u001b[39m\u001b[39m.\u001b[39mformat(\n\u001b[0;32m   1846\u001b[0m         label,\n\u001b[0;32m   1847\u001b[0m         \u001b[39m\"\u001b[39m\u001b[39m, \u001b[39m\u001b[39m\"\u001b[39m\u001b[39m.\u001b[39mjoin(\n\u001b[0;32m   1848\u001b[0m             \u001b[39mstr\u001b[39m(i\u001b[39m.\u001b[39mshape[\u001b[39m0\u001b[39m]) \u001b[39mfor\u001b[39;00m i \u001b[39min\u001b[39;00m tf\u001b[39m.\u001b[39mnest\u001b[39m.\u001b[39mflatten(single_data)\n\u001b[0;32m   1849\u001b[0m         ),\n\u001b[0;32m   1850\u001b[0m     )\n\u001b[0;32m   1851\u001b[0m msg \u001b[39m+\u001b[39m\u001b[39m=\u001b[39m \u001b[39m\"\u001b[39m\u001b[39mMake sure all arrays contain the same number of samples.\u001b[39m\u001b[39m\"\u001b[39m\n\u001b[1;32m-> 1852\u001b[0m \u001b[39mraise\u001b[39;00m \u001b[39mValueError\u001b[39;00m(msg)\n",
      "\u001b[1;31mValueError\u001b[0m: Data cardinality is ambiguous:\n  x sizes: 481, 54\nMake sure all arrays contain the same number of samples."
     ]
    }
   ],
   "source": [
    "predictions = model.predict([X_test, X_test_img])"
   ]
  },
  {
   "cell_type": "code",
   "execution_count": null,
   "metadata": {},
   "outputs": [],
   "source": [
    "# MSE\n",
    "error = predictions.flatten() - y_test\n",
    "squared_error = error ** 2\n",
    "MSE = np.mean(squared_error)"
   ]
  }
 ],
 "metadata": {
  "kernelspec": {
   "display_name": "Python 3",
   "language": "python",
   "name": "python3"
  },
  "language_info": {
   "codemirror_mode": {
    "name": "ipython",
    "version": 3
   },
   "file_extension": ".py",
   "mimetype": "text/x-python",
   "name": "python",
   "nbconvert_exporter": "python",
   "pygments_lexer": "ipython3",
   "version": "3.10.11"
  },
  "orig_nbformat": 4
 },
 "nbformat": 4,
 "nbformat_minor": 2
}
